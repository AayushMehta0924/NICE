{
 "cells": [
  {
   "cell_type": "code",
   "execution_count": 8,
   "id": "a8af3539",
   "metadata": {
    "_kg_hide-input": true,
    "execution": {
     "iopub.execute_input": "2022-07-13T18:55:52.492155Z",
     "iopub.status.busy": "2022-07-13T18:55:52.491511Z",
     "iopub.status.idle": "2022-07-13T18:56:01.864345Z",
     "shell.execute_reply": "2022-07-13T18:56:01.863090Z"
    },
    "papermill": {
     "duration": 9.381297,
     "end_time": "2022-07-13T18:56:01.867268",
     "exception": false,
     "start_time": "2022-07-13T18:55:52.485971",
     "status": "completed"
    },
    "tags": []
   },
   "outputs": [],
   "source": [
    "import random\n",
    "import numpy as np\n",
    "import tensorflow as tf\n",
    "import matplotlib.pyplot as plt"
   ]
  },
  {
   "cell_type": "code",
   "execution_count": 3,
   "id": "d8ad9cca",
   "metadata": {
    "_kg_hide-output": false,
    "execution": {
     "iopub.execute_input": "2022-07-13T18:56:01.877637Z",
     "iopub.status.busy": "2022-07-13T18:56:01.876425Z",
     "iopub.status.idle": "2022-07-13T18:56:06.582132Z",
     "shell.execute_reply": "2022-07-13T18:56:06.579894Z"
    },
    "papermill": {
     "duration": 4.714316,
     "end_time": "2022-07-13T18:56:06.585504",
     "exception": false,
     "start_time": "2022-07-13T18:56:01.871188",
     "status": "completed"
    },
    "tags": []
   },
   "outputs": [
    {
     "name": "stderr",
     "output_type": "stream",
     "text": [
      "2023-02-17 01:46:52.382867: W tensorflow/stream_executor/platform/default/dso_loader.cc:64] Could not load dynamic library 'libcuda.so.1'; dlerror: libcuda.so.1: cannot open shared object file: No such file or directory\n",
      "2023-02-17 01:46:52.382903: W tensorflow/stream_executor/cuda/cuda_driver.cc:269] failed call to cuInit: UNKNOWN ERROR (303)\n",
      "2023-02-17 01:46:52.382925: I tensorflow/stream_executor/cuda/cuda_diagnostics.cc:156] kernel driver does not appear to be running on this host (sky-Modern-14-A10M): /proc/driver/nvidia/version does not exist\n",
      "2023-02-17 01:46:52.383232: I tensorflow/core/platform/cpu_feature_guard.cc:193] This TensorFlow binary is optimized with oneAPI Deep Neural Network Library (oneDNN) to use the following CPU instructions in performance-critical operations:  AVX2 FMA\n",
      "To enable them in other operations, rebuild TensorFlow with the appropriate compiler flags.\n"
     ]
    },
    {
     "name": "stdout",
     "output_type": "stream",
     "text": [
      "Model: \"sequential\"\n",
      "_________________________________________________________________\n",
      " Layer (type)                Output Shape              Param #   \n",
      "=================================================================\n",
      " resnet50 (Functional)       (None, 2048)              23587712  \n",
      "                                                                 \n",
      " dense (Dense)               (None, 3)                 6147      \n",
      "                                                                 \n",
      "=================================================================\n",
      "Total params: 23,593,859\n",
      "Trainable params: 6,147\n",
      "Non-trainable params: 23,587,712\n",
      "_________________________________________________________________\n"
     ]
    }
   ],
   "source": [
    "from tensorflow.keras.applications import ResNet50\n",
    "from tensorflow.keras import Sequential\n",
    "from tensorflow.keras.layers import Dense\n",
    "\n",
    "num_classes = 3\n",
    "\n",
    "my_new_model = Sequential()\n",
    "my_new_model.add(ResNet50(include_top=False, pooling='avg', weights='imagenet'))\n",
    "my_new_model.add(Dense(num_classes, activation='softmax'))\n",
    "\n",
    "my_new_model.layers[0].trainable = False\n",
    "\n",
    "my_new_model.summary()"
   ]
  },
  {
   "cell_type": "code",
   "execution_count": 4,
   "id": "fe449ea0",
   "metadata": {
    "_kg_hide-output": true,
    "execution": {
     "iopub.execute_input": "2022-07-13T18:56:06.603870Z",
     "iopub.status.busy": "2022-07-13T18:56:06.602816Z",
     "iopub.status.idle": "2022-07-13T18:56:06.623349Z",
     "shell.execute_reply": "2022-07-13T18:56:06.622264Z"
    },
    "papermill": {
     "duration": 0.028808,
     "end_time": "2022-07-13T18:56:06.626135",
     "exception": false,
     "start_time": "2022-07-13T18:56:06.597327",
     "status": "completed"
    },
    "tags": []
   },
   "outputs": [],
   "source": [
    "my_new_model.compile(optimizer='sgd', loss='categorical_crossentropy', metrics=['accuracy'])"
   ]
  },
  {
   "cell_type": "code",
   "execution_count": 17,
   "id": "c1955bc1",
   "metadata": {
    "execution": {
     "iopub.execute_input": "2022-07-13T18:56:06.643591Z",
     "iopub.status.busy": "2022-07-13T18:56:06.642491Z",
     "iopub.status.idle": "2022-07-13T18:56:06.872821Z",
     "shell.execute_reply": "2022-07-13T18:56:06.871020Z"
    },
    "papermill": {
     "duration": 0.2384,
     "end_time": "2022-07-13T18:56:06.875641",
     "exception": false,
     "start_time": "2022-07-13T18:56:06.637241",
     "status": "completed"
    },
    "tags": []
   },
   "outputs": [
    {
     "name": "stdout",
     "output_type": "stream",
     "text": [
      "/home/sky/Desktop/god-classification/dataset/Train\n",
      "/home/sky/Desktop/god-classification/dataset/Val\n",
      "Found 150 images belonging to 3 classes.\n",
      "Found 28 images belonging to 3 classes.\n"
     ]
    }
   ],
   "source": [
    "from tensorflow.keras.applications.resnet50 import preprocess_input\n",
    "from tensorflow.keras.preprocessing.image import ImageDataGenerator\n",
    "import os \n",
    "image_size = 224\n",
    "data_generator = ImageDataGenerator(preprocessing_function=preprocess_input)\n",
    "\n",
    "path = '/home/sky/Desktop/god-classification/dataset/'\n",
    "# Training directory\n",
    "train_dir = os.path.join(path,'Train')\n",
    "print(train_dir)\n",
    "\n",
    "# Validation directory\n",
    "val_dir = os.path.join(path,'Val')\n",
    "print(val_dir)\n",
    "\n",
    "train_generator = data_generator.flow_from_directory(\n",
    "        train_dir,\n",
    "        target_size=(image_size, image_size),\n",
    "        batch_size=4,\n",
    "        class_mode='categorical')\n",
    "\n",
    "validation_generator = data_generator.flow_from_directory(\n",
    "        val_dir,\n",
    "        target_size=(image_size, image_size),\n",
    "        batch_size=2,\n",
    "        class_mode='categorical')\n",
    "\n"
   ]
  },
  {
   "cell_type": "code",
   "execution_count": 32,
   "id": "d8d4a4bd",
   "metadata": {
    "execution": {
     "iopub.execute_input": "2022-07-13T18:56:06.893678Z",
     "iopub.status.busy": "2022-07-13T18:56:06.893257Z",
     "iopub.status.idle": "2022-07-13T18:56:19.625274Z",
     "shell.execute_reply": "2022-07-13T18:56:19.623373Z"
    },
    "papermill": {
     "duration": 12.740164,
     "end_time": "2022-07-13T18:56:19.627960",
     "exception": false,
     "start_time": "2022-07-13T18:56:06.887796",
     "status": "completed"
    },
    "tags": []
   },
   "outputs": [
    {
     "name": "stdout",
     "output_type": "stream",
     "text": [
      "Epoch :  1\n"
     ]
    },
    {
     "name": "stderr",
     "output_type": "stream",
     "text": [
      "/tmp/ipykernel_9188/2922417473.py:3: UserWarning: `Model.fit_generator` is deprecated and will be removed in a future version. Please use `Model.fit`, which supports generators.\n",
      "  loss_history += [my_new_model.fit_generator(train_generator, steps_per_epoch=4,\n"
     ]
    },
    {
     "name": "stdout",
     "output_type": "stream",
     "text": [
      "4/4 [==============================] - 1s 346ms/step - loss: 0.2420 - accuracy: 0.8750 - val_loss: 0.3101 - val_accuracy: 0.7500\n",
      "Epoch :  2\n",
      "4/4 [==============================] - 1s 384ms/step - loss: 0.2802 - accuracy: 0.8750 - val_loss: 0.5679 - val_accuracy: 0.7500\n",
      "Epoch :  3\n",
      "4/4 [==============================] - 1s 333ms/step - loss: 0.0698 - accuracy: 0.9286 - val_loss: 0.3429 - val_accuracy: 0.7500\n",
      "Epoch :  4\n",
      "4/4 [==============================] - 1s 355ms/step - loss: 0.0470 - accuracy: 1.0000 - val_loss: 1.2316 - val_accuracy: 0.7500\n",
      "Epoch :  5\n",
      "4/4 [==============================] - 1s 330ms/step - loss: 0.0676 - accuracy: 0.9375 - val_loss: 1.2086 - val_accuracy: 0.5000\n"
     ]
    }
   ],
   "source": [
    "for i in range(5):\n",
    "    print(\"Epoch : \",i+1)\n",
    "    loss_history += [my_new_model.fit_generator(train_generator, steps_per_epoch=4,\n",
    "                         validation_data=validation_generator, validation_steps=2)]\n"
   ]
  },
  {
   "cell_type": "code",
   "execution_count": 34,
   "id": "6f238392",
   "metadata": {},
   "outputs": [
    {
     "data": {
      "text/plain": [
       "Text(0.5, 1.0, 'Accuracy')"
      ]
     },
     "execution_count": 34,
     "metadata": {},
     "output_type": "execute_result"
    },
    {
     "data": {
      "image/png": "[encoded data removed]",
      "text/plain": [
       "<Figure size 864x432 with 2 Axes>"
      ]
     },
     "metadata": {
      "needs_background": "light"
     },
     "output_type": "display_data"
    }
   ],
   "source": [
    "epich = np.cumsum(np.concatenate(\n",
    "    [np.linspace(0.5, 1, len(mh.epoch)) for mh in loss_history]))\n",
    "fig, (ax1, ax2) = plt.subplots(1, 2, figsize=(12, 6))\n",
    "_ = ax1.plot(epich,\n",
    "             np.concatenate([mh.history['loss'] for mh in loss_history]),\n",
    "             'b-',\n",
    "             epich, np.concatenate(\n",
    "        [mh.history['val_loss'] for mh in loss_history]), 'r-')\n",
    "ax1.legend(['Training', 'Validation'])\n",
    "ax1.set_title('Loss')\n",
    "\n",
    "_ = ax2.plot(epich, np.concatenate(\n",
    "    [mh.history['accuracy'] for mh in loss_history]), 'b-',\n",
    "                 epich, np.concatenate(\n",
    "        [mh.history['val_accuracy'] for mh in loss_history]),\n",
    "                 'r-')\n",
    "ax2.legend(['Training', 'Validation'])\n",
    "ax2.set_title('Accuracy')"
   ]
  },
  {
   "cell_type": "code",
   "execution_count": null,
   "id": "f559e96a",
   "metadata": {},
   "outputs": [],
   "source": [
    "#my_new_model.save(\"/home/sky/Desktop/god-classification/res_model10.h5\")"
   ]
  },
  {
   "cell_type": "code",
   "execution_count": null,
   "id": "04ab3b5e",
   "metadata": {},
   "outputs": [],
   "source": []
  }
 ],
 "metadata": {
  "kernelspec": {
   "display_name": "Python 3 (ipykernel)",
   "language": "python",
   "name": "python3"
  },
  "language_info": {
   "codemirror_mode": {
    "name": "ipython",
    "version": 3
   },
   "file_extension": ".py",
   "mimetype": "text/x-python",
   "name": "python",
   "nbconvert_exporter": "python",
   "pygments_lexer": "ipython3",
   "version": "3.9.12"
  },
  "papermill": {
   "default_parameters": {},
   "duration": 41.285641,
   "end_time": "2022-07-13T18:56:22.624566",
   "environment_variables": {},
   "exception": null,
   "input_path": "__notebook__.ipynb",
   "output_path": "__notebook__.ipynb",
   "parameters": {},
   "start_time": "2022-07-13T18:55:41.338925",
   "version": "2.3.4"
  }
 },
 "nbformat": 4,
 "nbformat_minor": 5
}
