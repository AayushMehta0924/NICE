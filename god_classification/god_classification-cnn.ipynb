{
 "cells": [
  {
   "cell_type": "code",
   "execution_count": 1,
   "id": "aa0c1816",
   "metadata": {
    "execution": {
     "iopub.execute_input": "2023-02-09T09:22:28.315083Z",
     "iopub.status.busy": "2023-02-09T09:22:28.314246Z",
     "iopub.status.idle": "2023-02-09T09:22:32.554878Z",
     "shell.execute_reply": "2023-02-09T09:22:32.553841Z"
    },
    "papermill": {
     "duration": 4.249511,
     "end_time": "2023-02-09T09:22:32.557770",
     "exception": false,
     "start_time": "2023-02-09T09:22:28.308259",
     "status": "completed"
    },
    "tags": []
   },
   "outputs": [
    {
     "name": "stderr",
     "output_type": "stream",
     "text": [
      "2023-02-17 02:26:01.919966: W tensorflow/stream_executor/platform/default/dso_loader.cc:64] Could not load dynamic library 'libcudart.so.11.0'; dlerror: libcudart.so.11.0: cannot open shared object file: No such file or directory\n",
      "2023-02-17 02:26:01.919987: I tensorflow/stream_executor/cuda/cudart_stub.cc:29] Ignore above cudart dlerror if you do not have a GPU set up on your machine.\n"
     ]
    }
   ],
   "source": [
    "import numpy as np \n",
    "import pandas as pd\n",
    "\n",
    "from keras.preprocessing.image import ImageDataGenerator\n",
    "from keras.utils import to_categorical\n",
    "from sklearn.model_selection import train_test_split\n",
    "import matplotlib.pyplot as plt\n",
    "import random\n",
    "from tensorflow.keras.preprocessing.image import load_img\n",
    "import tensorflow as tf\n",
    "import os\n",
    "from tensorflow.keras.models import Sequential\n",
    "from tensorflow.keras import layers\n",
    "\n"
   ]
  },
  {
   "cell_type": "code",
   "execution_count": 2,
   "id": "735ac5e1",
   "metadata": {},
   "outputs": [
    {
     "name": "stdout",
     "output_type": "stream",
     "text": [
      "/home/sky/Desktop/god-classification/dataset/Train\n",
      "/home/sky/Desktop/god-classification/dataset/Val\n",
      "Found 150 images belonging to 3 classes.\n",
      "Found 28 images belonging to 3 classes.\n"
     ]
    }
   ],
   "source": [
    "# The main path\n",
    "path = '/home/sky/Desktop/god-classification/dataset/'\n",
    "\n",
    "# Training directory\n",
    "train_dir = os.path.join(path,'Train')\n",
    "print(train_dir)\n",
    "\n",
    "# Validation directory\n",
    "val_dir = os.path.join(path,'Val')\n",
    "print(val_dir)\n",
    "\n",
    "\n",
    "# Creating image generator steps\n",
    "train_data = ImageDataGenerator(rescale=1/255,rotation_range=30,width_shift_range=0.2,height_shift_range=0.2,shear_range=0.2,zoom_range=0.2,horizontal_flip=True)\n",
    "validate_data = ImageDataGenerator(rescale=1/255)\n",
    "\n",
    "train_generator = train_data.flow_from_directory(directory=train_dir,target_size=(412,412),batch_size=4,class_mode='categorical')\n",
    "validate_generator = validate_data.flow_from_directory(directory=val_dir,target_size=(412,412),batch_size=2,class_mode='categorical')"
   ]
  },
  {
   "cell_type": "code",
   "execution_count": 7,
   "id": "671d7d11",
   "metadata": {
    "execution": {
     "iopub.execute_input": "2023-02-09T09:23:05.696432Z",
     "iopub.status.busy": "2023-02-09T09:23:05.696010Z",
     "iopub.status.idle": "2023-02-09T09:23:08.341449Z",
     "shell.execute_reply": "2023-02-09T09:23:08.340493Z"
    },
    "papermill": {
     "duration": 2.666429,
     "end_time": "2023-02-09T09:23:08.343896",
     "exception": false,
     "start_time": "2023-02-09T09:23:05.677467",
     "status": "completed"
    },
    "tags": []
   },
   "outputs": [
    {
     "name": "stderr",
     "output_type": "stream",
     "text": [
      "2023-02-17 02:26:36.908725: W tensorflow/core/framework/cpu_allocator_impl.cc:82] Allocation of 314703872 exceeds 10% of free system memory.\n",
      "2023-02-17 02:26:37.052156: W tensorflow/core/framework/cpu_allocator_impl.cc:82] Allocation of 314703872 exceeds 10% of free system memory.\n",
      "2023-02-17 02:26:37.104140: W tensorflow/core/framework/cpu_allocator_impl.cc:82] Allocation of 314703872 exceeds 10% of free system memory.\n"
     ]
    }
   ],
   "source": [
    "model = tf.keras.Sequential([\n",
    "    tf.keras.Input(shape=(412,412,3)),\n",
    "    tf.keras.layers.Conv2D(32, (3, 3), activation='relu'),\n",
    "    tf.keras.layers.MaxPooling2D((2, 2)),\n",
    "    tf.keras.layers.Conv2D(64, (3, 3), activation='relu'),\n",
    "    tf.keras.layers.MaxPooling2D((2, 2)),\n",
    "    tf.keras.layers.Conv2D(128, (3, 3), activation='relu'),\n",
    "    tf.keras.layers.MaxPooling2D((2, 2)),\n",
    "    tf.keras.layers.Flatten(),\n",
    "    tf.keras.layers.Dense(256, activation='relu'),\n",
    "    tf.keras.layers.Dropout(0.2),\n",
    "    tf.keras.layers.Dense(3, activation='softmax')\n",
    "])"
   ]
  },
  {
   "cell_type": "code",
   "execution_count": 8,
   "id": "34c7ab63",
   "metadata": {
    "execution": {
     "iopub.execute_input": "2023-02-09T09:23:08.367192Z",
     "iopub.status.busy": "2023-02-09T09:23:08.366888Z",
     "iopub.status.idle": "2023-02-09T09:23:08.379443Z",
     "shell.execute_reply": "2023-02-09T09:23:08.378582Z"
    },
    "papermill": {
     "duration": 0.02665,
     "end_time": "2023-02-09T09:23:08.381513",
     "exception": false,
     "start_time": "2023-02-09T09:23:08.354863",
     "status": "completed"
    },
    "tags": []
   },
   "outputs": [],
   "source": [
    "model.compile(loss='binary_crossentropy', optimizer='adam', metrics=['accuracy'])\n"
   ]
  },
  {
   "cell_type": "code",
   "execution_count": 9,
   "id": "3ee1af99",
   "metadata": {
    "execution": {
     "iopub.execute_input": "2023-02-09T09:23:08.404624Z",
     "iopub.status.busy": "2023-02-09T09:23:08.403806Z",
     "iopub.status.idle": "2023-02-09T09:23:08.410937Z",
     "shell.execute_reply": "2023-02-09T09:23:08.409638Z"
    },
    "papermill": {
     "duration": 0.021359,
     "end_time": "2023-02-09T09:23:08.413408",
     "exception": false,
     "start_time": "2023-02-09T09:23:08.392049",
     "status": "completed"
    },
    "tags": []
   },
   "outputs": [
    {
     "name": "stdout",
     "output_type": "stream",
     "text": [
      "Model: \"sequential_2\"\n",
      "_________________________________________________________________\n",
      " Layer (type)                Output Shape              Param #   \n",
      "=================================================================\n",
      " conv2d_6 (Conv2D)           (None, 410, 410, 32)      896       \n",
      "                                                                 \n",
      " max_pooling2d_6 (MaxPooling  (None, 205, 205, 32)     0         \n",
      " 2D)                                                             \n",
      "                                                                 \n",
      " conv2d_7 (Conv2D)           (None, 203, 203, 64)      18496     \n",
      "                                                                 \n",
      " max_pooling2d_7 (MaxPooling  (None, 101, 101, 64)     0         \n",
      " 2D)                                                             \n",
      "                                                                 \n",
      " conv2d_8 (Conv2D)           (None, 99, 99, 128)       73856     \n",
      "                                                                 \n",
      " max_pooling2d_8 (MaxPooling  (None, 49, 49, 128)      0         \n",
      " 2D)                                                             \n",
      "                                                                 \n",
      " flatten_2 (Flatten)         (None, 307328)            0         \n",
      "                                                                 \n",
      " dense_4 (Dense)             (None, 256)               78676224  \n",
      "                                                                 \n",
      " dropout_2 (Dropout)         (None, 256)               0         \n",
      "                                                                 \n",
      " dense_5 (Dense)             (None, 1)                 257       \n",
      "                                                                 \n",
      "=================================================================\n",
      "Total params: 78,769,729\n",
      "Trainable params: 78,769,729\n",
      "Non-trainable params: 0\n",
      "_________________________________________________________________\n"
     ]
    }
   ],
   "source": [
    "model.summary()"
   ]
  },
  {
   "cell_type": "code",
   "execution_count": null,
   "id": "487ff54c",
   "metadata": {
    "execution": {
     "iopub.execute_input": "2023-02-09T09:23:08.438573Z",
     "iopub.status.busy": "2023-02-09T09:23:08.437036Z",
     "iopub.status.idle": "2023-02-09T09:35:37.334098Z",
     "shell.execute_reply": "2023-02-09T09:35:37.333033Z"
    },
    "papermill": {
     "duration": 748.9121,
     "end_time": "2023-02-09T09:35:37.336683",
     "exception": false,
     "start_time": "2023-02-09T09:23:08.424583",
     "status": "completed"
    },
    "tags": []
   },
   "outputs": [
    {
     "name": "stderr",
     "output_type": "stream",
     "text": [
      "/tmp/ipykernel_14630/1827585856.py:2: UserWarning: `Model.fit_generator` is deprecated and will be removed in a future version. Please use `Model.fit`, which supports generators.\n",
      "  history = model.fit_generator(\n"
     ]
    },
    {
     "name": "stdout",
     "output_type": "stream",
     "text": [
      "Epoch 1/5\n"
     ]
    },
    {
     "name": "stderr",
     "output_type": "stream",
     "text": [
      "2023-02-17 02:11:55.268427: W tensorflow/core/framework/cpu_allocator_impl.cc:82] Allocation of 629407744 exceeds 10% of free system memory.\n",
      "2023-02-17 02:11:55.343035: W tensorflow/core/framework/cpu_allocator_impl.cc:82] Allocation of 629407744 exceeds 10% of free system memory.\n"
     ]
    }
   ],
   "source": [
    "EPOCHS = 5\n",
    "history = model.fit_generator(\n",
    "    train_generator,\n",
    "    steps_per_epoch=4,\n",
    "    epochs=EPOCHS,\n",
    "    validation_data=validate_generator,\n",
    "    validation_steps=2\n",
    ")"
   ]
  },
  {
   "cell_type": "code",
   "execution_count": null,
   "id": "0d1b40a2",
   "metadata": {
    "execution": {
     "iopub.execute_input": "2023-02-09T09:35:37.849775Z",
     "iopub.status.busy": "2023-02-09T09:35:37.849407Z",
     "iopub.status.idle": "2023-02-09T09:35:38.259192Z",
     "shell.execute_reply": "2023-02-09T09:35:38.258210Z"
    },
    "papermill": {
     "duration": 0.528667,
     "end_time": "2023-02-09T09:35:38.261407",
     "exception": false,
     "start_time": "2023-02-09T09:35:37.732740",
     "status": "completed"
    },
    "tags": []
   },
   "outputs": [],
   "source": [
    "acc = history.history['accuracy']\n",
    "val_acc = history.history['val_accuracy']\n",
    "\n",
    "loss = history.history['loss']\n",
    "val_loss = history.history['val_loss']\n",
    "\n",
    "epochs_range = range(EPOCHS)\n",
    "\n",
    "plt.figure(figsize=(8, 8))\n",
    "plt.subplot(1, 2, 1)\n",
    "plt.plot(epochs_range, acc, label='Training Accuracy')\n",
    "plt.plot(epochs_range, val_acc, label='Validation Accuracy')\n",
    "plt.legend(loc='lower right')\n",
    "plt.title('Training and Validation Accuracy')\n",
    "\n",
    "plt.subplot(1, 2, 2)\n",
    "plt.plot(epochs_range, loss, label='Training Loss')\n",
    "plt.plot(epochs_range, val_loss, label='Validation Loss')\n",
    "plt.legend(loc='upper right')\n",
    "plt.title('Training and Validation Loss')\n",
    "plt.savefig('./foo.png')\n",
    "plt.show()"
   ]
  },
  {
   "cell_type": "code",
   "execution_count": null,
   "id": "b8dbed72",
   "metadata": {},
   "outputs": [],
   "source": [
    "# model.save(\"/home/sky/Desktop/god-classification/cnn_model.h5\")"
   ]
  }
 ],
 "metadata": {
  "kernelspec": {
   "display_name": "Python 3 (ipykernel)",
   "language": "python",
   "name": "python3"
  },
  "language_info": {
   "codemirror_mode": {
    "name": "ipython",
    "version": 3
   },
   "file_extension": ".py",
   "mimetype": "text/x-python",
   "name": "python",
   "nbconvert_exporter": "python",
   "pygments_lexer": "ipython3",
   "version": "3.9.12"
  },
  "papermill": {
   "default_parameters": {},
   "duration": 801.642528,
   "end_time": "2023-02-09T09:35:42.040754",
   "environment_variables": {},
   "exception": null,
   "input_path": "__notebook__.ipynb",
   "output_path": "__notebook__.ipynb",
   "parameters": {},
   "start_time": "2023-02-09T09:22:20.398226",
   "version": "2.3.4"
  }
 },
 "nbformat": 4,
 "nbformat_minor": 5
}
